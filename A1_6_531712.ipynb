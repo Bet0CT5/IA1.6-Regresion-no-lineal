{
  "cells": [
    {
      "cell_type": "markdown",
      "id": "b76a9764-b0a2-45bd-bf09-c51118b9e6c6",
      "metadata": {
        "id": "b76a9764-b0a2-45bd-bf09-c51118b9e6c6"
      },
      "source": [
        "# A1.6 Regresión no lineal"
      ]
    },
    {
      "cell_type": "markdown",
      "id": "f5f1c3e6-4579-4616-b1f9-c82d9ab9e285",
      "metadata": {
        "id": "f5f1c3e6-4579-4616-b1f9-c82d9ab9e285"
      },
      "source": [
        "1. Se importan los datos del archivo **Tiempo de entrega.csv** al ambiente de trabajo. Se genera una\n",
        "gráfica de dispersión que muestre el comportamiento de los datos y se agrega una línea de\n",
        "texto en la que se genere una predicción sobre qué tipo de algoritmo será el más adecuado\n",
        "para resolver la tarea."
      ]
    },
    {
      "cell_type": "code",
      "execution_count": 1,
      "id": "83db3f80-b279-4988-ac15-6128c2e6aa74",
      "metadata": {
        "colab": {
          "base_uri": "https://localhost:8080/"
        },
        "id": "83db3f80-b279-4988-ac15-6128c2e6aa74",
        "outputId": "06f4129a-90a2-4b36-defa-41cf71e6aacf"
      },
      "outputs": [
        {
          "output_type": "stream",
          "name": "stdout",
          "text": [
            "<class 'pandas.core.frame.DataFrame'>\n",
            "RangeIndex: 443 entries, 0 to 442\n",
            "Data columns (total 2 columns):\n",
            " #   Column        Non-Null Count  Dtype  \n",
            "---  ------        --------------  -----  \n",
            " 0   Tiempo        432 non-null    float64\n",
            " 1   Calificacion  430 non-null    object \n",
            "dtypes: float64(1), object(1)\n",
            "memory usage: 7.1+ KB\n",
            "None\n"
          ]
        }
      ],
      "source": [
        "import pandas as pd\n",
        "\n",
        "# Se leen los datos del dataframe\n",
        "df = pd.read_csv(\"/content/sample_data/A1.6 Tiempo de Entrega.csv\")\n",
        "\n",
        "print(df.info())"
      ]
    },
    {
      "cell_type": "markdown",
      "id": "b3beaca0-b8a9-417e-af9f-372c5159d743",
      "metadata": {
        "id": "b3beaca0-b8a9-417e-af9f-372c5159d743"
      },
      "source": [
        "Al imprimir información del dataframe se puede observar que la variable **Calificación** es de tipo **object** y que tiene 2 registros no-nulos menos que la variable **Tiempo**, esto quiere decir que hay 2 registros que no tienen un valor válido en la columna de **Calificación**. Para corregir esto, se hace lo siguiente:\n",
        "- Se convierte toda la columna a numérica (float)\n",
        "- Se calcula la media de los registros que si tienen una calificación válida.\n",
        "- Se sustituyen los valores que no son válidos por la media calculada.\n",
        "- Se eliminan registros residuales nulos que haya habido en la columna de tiempo"
      ]
    },
    {
      "cell_type": "code",
      "execution_count": 2,
      "id": "bbefaa4d-68ea-40a3-ae60-1bddb42944b1",
      "metadata": {
        "id": "bbefaa4d-68ea-40a3-ae60-1bddb42944b1"
      },
      "outputs": [],
      "source": [
        "# Convertir la columna a numérica, forzando valores no numéricos a NaN\n",
        "df['Calificacion'] = pd.to_numeric(df['Calificacion'], errors='coerce')\n",
        "\n",
        "# Calcular la media ignorando NaN\n",
        "media = df['Calificacion'].mean()\n",
        "\n",
        "# Reemplazar NaN con la media\n",
        "df['Calificacion'] = df['Calificacion'].fillna(media)"
      ]
    },
    {
      "cell_type": "code",
      "execution_count": 3,
      "id": "a9a0124f-db13-499d-8336-3a6c67e9dc36",
      "metadata": {
        "colab": {
          "base_uri": "https://localhost:8080/"
        },
        "id": "a9a0124f-db13-499d-8336-3a6c67e9dc36",
        "outputId": "8151d4d4-d951-4c74-b812-ba7a942843a3"
      },
      "outputs": [
        {
          "output_type": "stream",
          "name": "stdout",
          "text": [
            "<class 'pandas.core.frame.DataFrame'>\n",
            "RangeIndex: 443 entries, 0 to 442\n",
            "Data columns (total 2 columns):\n",
            " #   Column        Non-Null Count  Dtype  \n",
            "---  ------        --------------  -----  \n",
            " 0   Tiempo        432 non-null    float64\n",
            " 1   Calificacion  443 non-null    float64\n",
            "dtypes: float64(2)\n",
            "memory usage: 7.1 KB\n",
            "None\n"
          ]
        }
      ],
      "source": [
        "print(df.info())"
      ]
    },
    {
      "cell_type": "markdown",
      "id": "a793dfcd-b62f-4cc3-addc-a58d8b163a27",
      "metadata": {
        "id": "a793dfcd-b62f-4cc3-addc-a58d8b163a27"
      },
      "source": [
        "Ahora se observan más registros en la variable de **Calificación** que en la de **Tiempo**, esto puede deberse a que hay más registros nulos en la variable de **Tiempo** que no deben de ir, ya que se menciona que la cantidad de registros debe ser de solo 432."
      ]
    },
    {
      "cell_type": "code",
      "execution_count": 4,
      "id": "5e592883-699b-45e1-be19-79f33a5690f0",
      "metadata": {
        "colab": {
          "base_uri": "https://localhost:8080/"
        },
        "id": "5e592883-699b-45e1-be19-79f33a5690f0",
        "outputId": "68eb204d-d495-48a0-fbd3-aba39545bc78"
      },
      "outputs": [
        {
          "output_type": "stream",
          "name": "stdout",
          "text": [
            "            Tiempo  Calificacion\n",
            "count   432.000000    443.000000\n",
            "mean     28.861675     94.781795\n",
            "std     240.305489     23.710566\n",
            "min    -100.000000      0.000000\n",
            "25%       1.810486     82.500000\n",
            "50%       5.424722    110.000000\n",
            "75%      12.740347    110.000000\n",
            "max    4960.167000    110.000000\n"
          ]
        }
      ],
      "source": [
        "print(df.describe())"
      ]
    },
    {
      "cell_type": "markdown",
      "id": "9eea1ea7-b263-4e56-a643-7b5e777c3f42",
      "metadata": {
        "id": "9eea1ea7-b263-4e56-a643-7b5e777c3f42"
      },
      "source": [
        "Se eliminan los registros nulos que no deben de existir por parte de la variable **Tiempo**"
      ]
    },
    {
      "cell_type": "code",
      "execution_count": 5,
      "id": "81162527-6c72-4a86-81c1-fcb463f06e69",
      "metadata": {
        "colab": {
          "base_uri": "https://localhost:8080/"
        },
        "id": "81162527-6c72-4a86-81c1-fcb463f06e69",
        "outputId": "d48c7123-8ade-449e-9243-3e792e261e43"
      },
      "outputs": [
        {
          "output_type": "stream",
          "name": "stdout",
          "text": [
            "<class 'pandas.core.frame.DataFrame'>\n",
            "Index: 432 entries, 0 to 431\n",
            "Data columns (total 2 columns):\n",
            " #   Column        Non-Null Count  Dtype  \n",
            "---  ------        --------------  -----  \n",
            " 0   Tiempo        432 non-null    float64\n",
            " 1   Calificacion  432 non-null    float64\n",
            "dtypes: float64(2)\n",
            "memory usage: 10.1 KB\n",
            "None\n"
          ]
        }
      ],
      "source": [
        "df = df.dropna(subset=['Tiempo'])\n",
        "print(df.info())"
      ]
    },
    {
      "cell_type": "markdown",
      "id": "04dc3c39-aa51-4c01-b398-2e08c463c386",
      "metadata": {
        "id": "04dc3c39-aa51-4c01-b398-2e08c463c386"
      },
      "source": [
        "Una vez eliminados los registros, se puede observar que ambas variables tienen la misma cantidad de registros. Ahora se puede proceder a graficar **Tiempo vs Calificación**, para ver cual puede ser el mejor modelo."
      ]
    },
    {
      "cell_type": "code",
      "execution_count": 6,
      "id": "243782ba-e1b0-490d-9e9b-4dbc1c44b0a7",
      "metadata": {
        "colab": {
          "base_uri": "https://localhost:8080/",
          "height": 564
        },
        "id": "243782ba-e1b0-490d-9e9b-4dbc1c44b0a7",
        "outputId": "110ebfc6-ba26-4f09-8fc5-407e484216e2"
      },
      "outputs": [
        {
          "output_type": "display_data",
          "data": {
            "text/plain": [
              "<Figure size 1000x600 with 1 Axes>"
            ],
            "image/png": "[encoded data removed]"
          },
          "metadata": {}
        }
      ],
      "source": [
        "# Importa matplotlib\n",
        "import matplotlib.pyplot as plt\n",
        "\n",
        "# Función mágica para graficar en Jupyter Notebook\n",
        "%matplotlib inline\n",
        "\n",
        "# Gráfica de dispersión\n",
        "plt.figure(figsize=(10, 6))\n",
        "plt.scatter(df.Tiempo, df.Calificacion)\n",
        "plt.xlabel(\"Tiempo\")\n",
        "plt.ylabel(\"Calificacion\")\n",
        "plt.title(\"Tiempo vs Calificacion\")\n",
        "plt.show()"
      ]
    },
    {
      "cell_type": "markdown",
      "id": "78646dd7-11d6-4caa-8927-2b30fd5dcc7b",
      "metadata": {
        "id": "78646dd7-11d6-4caa-8927-2b30fd5dcc7b"
      },
      "source": [
        "De acuerdo a la gráfica, se pueden intentar los siguientes modelos:\n",
        "\n",
        "<table>\n",
        "    <thead>\n",
        "        <tr>\n",
        "            <td><strong>Modelo</strong></td>\n",
        "            <td><strong>Aplicación</strong></td>\n",
        "        </tr>\n",
        "    </thead>\n",
        "    <tbody>\n",
        "        <tr>\n",
        "            <td>Regresión lineal</td>\n",
        "            <td>No se puede asumir un modelo de regresión lineal debido a que la relación entre el Tiempo y la Calificación no sigue un patrón lineal, por lo tanto no tendría un buen ajuste.</td>\n",
        "        </tr>\n",
        "        <tr>\n",
        "            <td>Regresión polinómica cuadrática</td>\n",
        "            <td>El patrón de los datos puede representar una curva, lo que un modelo cuadrático podría ajustarse mejor.</td>\n",
        "        </tr>\n",
        "        <tr>\n",
        "            <td>Regresión polinómica de grado 3</td>\n",
        "            <td>Al igual que la regresión cuadrática, se puede intentar la de grado 3 para ver si se ajusta mejor</td>\n",
        "        </tr>\n",
        "        <tr>\n",
        "            <td>Regresión no lineal</td>\n",
        "            <td>Probar con modelos de regresión no lineal como KNN</td>\n",
        "        </tr>\n",
        "    </tbody>\n",
        "</table>"
      ]
    },
    {
      "cell_type": "markdown",
      "id": "824d5a2e-7900-4cb5-99e0-960f2b1cda68",
      "metadata": {
        "id": "824d5a2e-7900-4cb5-99e0-960f2b1cda68"
      },
      "source": [
        "2. Se separan los datos en entrenamiento y prueba, con una relación de 70/30. Se imprime en\n",
        "consola el promedio de los tiempos en el conjunto de entrenamiento y en el conjunto de\n",
        "prueba. Se hace lo mismo para las calificaciones. Se incluye una línea de texto donde se comenta\n",
        "sobre la similitud o diferencia de los valores promedio entre el conjunto de entrenamiento\n",
        "y el de validación, y cómo es que esto podría afectar al análisis."
      ]
    },
    {
      "cell_type": "code",
      "execution_count": 8,
      "id": "e8f3c180-9b68-409c-9532-d456e62177ab",
      "metadata": {
        "colab": {
          "base_uri": "https://localhost:8080/"
        },
        "id": "e8f3c180-9b68-409c-9532-d456e62177ab",
        "outputId": "5684a1e8-6513-4362-e40d-1e7b88d6d2c0"
      },
      "outputs": [
        {
          "output_type": "stream",
          "name": "stdout",
          "text": [
            "Promedio en conjunto de entrenamiento: 32.77831880047351\n",
            "Promedio en conjunto de prueba: 19.763010683730773\n"
          ]
        }
      ],
      "source": [
        "from sklearn.model_selection import train_test_split\n",
        "\n",
        "# Se separan los datos en train y test, tanto para X como para Y en una proporción 70 - 30.\n",
        "X_train, X_test, Y_train, Y_test = train_test_split(df[['Tiempo']], df['Calificacion'], train_size=0.7)\n",
        "\n",
        "# Se imprime el promedio de los tiempos de los conjuntos de entrenamiento y de prueba\n",
        "mean_train = X_train['Tiempo'].mean()\n",
        "mean_test = X_test['Tiempo'].mean()\n",
        "print(f\"Promedio en conjunto de entrenamiento: {mean_train}\")\n",
        "print(f\"Promedio en conjunto de prueba: {mean_test}\")"
      ]
    },
    {
      "cell_type": "markdown",
      "id": "dd29be0b-23dc-4e7a-bae4-caf49b03d210",
      "metadata": {
        "id": "dd29be0b-23dc-4e7a-bae4-caf49b03d210"
      },
      "source": [
        "Hay una diferencia de alrededor de 13 puntos entre los conjuntos de entrenamiento y de prueba, esto representa una diferencia significativa entre las partes de entrenamiento y de prueba. Y esto puede afectar al modelo ya que la partición esta sesgada, y se le estaría entrenando con puros datos de entregas tempranas y probando con datos de entregas más tardías, lo que generaría predicciones más imprecisas después."
      ]
    },
    {
      "cell_type": "markdown",
      "id": "6e880fed-ef1f-4ff6-bf2c-cd193a3cb84a",
      "metadata": {
        "id": "6e880fed-ef1f-4ff6-bf2c-cd193a3cb84a"
      },
      "source": [
        "3. Se entrena un modelo de regresión polinomial usando los datos de entrenamiento. Se imprime un resumen de los resultados obtenidos y se agrega una línea de texto en la que se comenta sobre el tipo de relación (positiva o negativa; ¿a menor tiempo menor calificación?) entre el termino lineal y la respuesta, lo que esto significa y si dicha variable está significativamente asociada con las calificaciones."
      ]
    },
    {
      "cell_type": "code",
      "execution_count": 9,
      "id": "a67b5eb7-aa2d-4f51-a4ab-dd937dbb2538",
      "metadata": {
        "colab": {
          "base_uri": "https://localhost:8080/"
        },
        "id": "a67b5eb7-aa2d-4f51-a4ab-dd937dbb2538",
        "outputId": "d1522c5c-ed5f-41ba-f6d1-4f1839e36a4d"
      },
      "outputs": [
        {
          "output_type": "stream",
          "name": "stdout",
          "text": [
            "                            OLS Regression Results                            \n",
            "==============================================================================\n",
            "Dep. Variable:                      y   R-squared:                       0.054\n",
            "Model:                            OLS   Adj. R-squared:                  0.048\n",
            "Method:                 Least Squares   F-statistic:                     8.566\n",
            "Date:                Sat, 15 Feb 2025   Prob (F-statistic):           0.000241\n",
            "Time:                        04:52:30   Log-Likelihood:                -1385.1\n",
            "No. Observations:                 302   AIC:                             2776.\n",
            "Df Residuals:                     299   BIC:                             2787.\n",
            "Df Model:                           2                                         \n",
            "Covariance Type:            nonrobust                                         \n",
            "==============================================================================\n",
            "                 coef    std err          t      P>|t|      [0.025      0.975]\n",
            "------------------------------------------------------------------------------\n",
            "0             91.4357      1.538     59.446      0.000      88.409      94.463\n",
            "1              0.1742      0.043      4.085      0.000       0.090       0.258\n",
            "2          -3.438e-05   8.63e-06     -3.984      0.000   -5.14e-05   -1.74e-05\n",
            "==============================================================================\n",
            "Omnibus:                      116.163   Durbin-Watson:                   2.113\n",
            "Prob(Omnibus):                  0.000   Jarque-Bera (JB):              313.292\n",
            "Skew:                          -1.829   Prob(JB):                     9.32e-69\n",
            "Kurtosis:                       6.393   Cond. No.                     1.59e+06\n",
            "==============================================================================\n",
            "\n",
            "Notes:\n",
            "[1] Standard Errors assume that the covariance matrix of the errors is correctly specified.\n",
            "[2] The condition number is large, 1.59e+06. This might indicate that there are\n",
            "strong multicollinearity or other numerical problems.\n"
          ]
        }
      ],
      "source": [
        "from sklearn.preprocessing import PolynomialFeatures\n",
        "import statsmodels.api as sm\n",
        "\n",
        "# Generar polinomiales de grado 2 y ajustar los datos\n",
        "polyq_train = PolynomialFeatures(degree=2).fit(X_train)\n",
        "polyq_test = PolynomialFeatures(degree=2).fit(X_test)\n",
        "\n",
        "# TransformR los datos para que incluyan el polinomial de segundo orden.\n",
        "Xq_train = pd.DataFrame(polyq_train.transform(X_train))\n",
        "Xq_test = pd.DataFrame(polyq_test.transform(X_test))\n",
        "\n",
        "# Generar y entrenar el modelo\n",
        "mq = sm.OLS(list(Y_train), Xq_train).fit()\n",
        "\n",
        "# Imprimir resultados\n",
        "print(mq.summary())"
      ]
    },
    {
      "cell_type": "markdown",
      "id": "be03ac80-8901-4877-b79c-80004d34b002",
      "metadata": {
        "id": "be03ac80-8901-4877-b79c-80004d34b002"
      },
      "source": [
        "De acuerdo a los coeficientes de la columna P>|t| (0.0 y 0.0), la relación entre el tiempo de entrega y la calificación es significativa. Sin embargo, la relación en el término lineal (0.1742) es positiva queriendo decir que entre más tarde se entregue más aumenta la calificación mientras que la relación en el término cuadrático es negativa (-3.438e-05), queriendo decir que hay un punto donde la calificación empieza a bajar. Por lo tanto, la relación es no lineal, ya que inicialmente la curva va aumentando pero después de cierto punto va disminuyendo. También cabe destacar que el tiempo de entrega por si solo no explica bien el comportamiento de las calificaciones, viendose esto reflejado en el valor de la R<sup>2</sup> (0.054) el cual es demasiado bajo (explicando solo el 5.4% del comportamiento)."
      ]
    },
    {
      "cell_type": "markdown",
      "id": "b50887e8-8c53-4fb4-bb73-6c6daab3aa5f",
      "metadata": {
        "id": "b50887e8-8c53-4fb4-bb73-6c6daab3aa5f"
      },
      "source": [
        "4. Se entrena un modelo de regresión segmentada, siguiendo la misma estrategia utilizada en\n",
        "la lectura interactiva, utilizando regresiones cuadráticas para cada segmento. Se generan\n",
        "estimaciones (predicciones) en los datos de validación. Asegúrate de usar la función\n",
        "descrita en la lectura interactiva, instalándola en tu ambiente de trabajo en caso de no\n",
        "haberlo hecho previamente."
      ]
    },
    {
      "cell_type": "markdown",
      "source": [
        "- Se instala el paquete **mlinsights** que contiene la función **PiecewiseRegressor** para generar el modelo de **Regresión Segmentada**"
      ],
      "metadata": {
        "id": "ts5X970vFwWD"
      },
      "id": "ts5X970vFwWD"
    },
    {
      "cell_type": "code",
      "execution_count": 10,
      "id": "85eae1a4-2ef9-4ac4-98e5-edf4a8d4d790",
      "metadata": {
        "colab": {
          "base_uri": "https://localhost:8080/"
        },
        "id": "85eae1a4-2ef9-4ac4-98e5-edf4a8d4d790",
        "outputId": "feff20cf-ae64-49f4-e61a-cb0b9d41e47e"
      },
      "outputs": [
        {
          "output_type": "stream",
          "name": "stdout",
          "text": [
            "Collecting mlinsights\n",
            "  Downloading mlinsights-0.5.1-cp311-cp311-manylinux_2_17_x86_64.manylinux2014_x86_64.whl.metadata (6.4 kB)\n",
            "Requirement already satisfied: numpy in /usr/local/lib/python3.11/dist-packages (from mlinsights) (1.26.4)\n",
            "Collecting onnx>=1.14.0 (from mlinsights)\n",
            "  Downloading onnx-1.17.0-cp311-cp311-manylinux_2_17_x86_64.manylinux2014_x86_64.whl.metadata (16 kB)\n",
            "Requirement already satisfied: scipy in /usr/local/lib/python3.11/dist-packages (from mlinsights) (1.13.1)\n",
            "Requirement already satisfied: protobuf>=3.20.2 in /usr/local/lib/python3.11/dist-packages (from onnx>=1.14.0->mlinsights) (4.25.6)\n",
            "Downloading mlinsights-0.5.1-cp311-cp311-manylinux_2_17_x86_64.manylinux2014_x86_64.whl (1.8 MB)\n",
            "\u001b[2K   \u001b[90m━━━━━━━━━━━━━━━━━━━━━━━━━━━━━━━━━━━━━━━━\u001b[0m \u001b[32m1.8/1.8 MB\u001b[0m \u001b[31m17.8 MB/s\u001b[0m eta \u001b[36m0:00:00\u001b[0m\n",
            "\u001b[?25hDownloading onnx-1.17.0-cp311-cp311-manylinux_2_17_x86_64.manylinux2014_x86_64.whl (16.0 MB)\n",
            "\u001b[2K   \u001b[90m━━━━━━━━━━━━━━━━━━━━━━━━━━━━━━━━━━━━━━━━\u001b[0m \u001b[32m16.0/16.0 MB\u001b[0m \u001b[31m48.4 MB/s\u001b[0m eta \u001b[36m0:00:00\u001b[0m\n",
            "\u001b[?25hInstalling collected packages: onnx, mlinsights\n",
            "Successfully installed mlinsights-0.5.1 onnx-1.17.0\n"
          ]
        }
      ],
      "source": [
        "!pip install mlinsights"
      ]
    },
    {
      "cell_type": "markdown",
      "source": [
        "- Se genera el modelo y se predice el valor de Y en los datos de prueba, así como también se calcula el RSS y el RSE."
      ],
      "metadata": {
        "id": "FF7_ZgHcGLn1"
      },
      "id": "FF7_ZgHcGLn1"
    },
    {
      "cell_type": "code",
      "source": [
        "# Importar función\n",
        "from mlinsights.mlmodel import PiecewiseRegressor\n",
        "import numpy as np\n",
        "\n",
        "# Generar y entrenar modelo usando el término lineal y el cuadrático\n",
        "ms = PiecewiseRegressor('bins').fit(Xq_train.iloc[:,1:],Y_train)\n",
        "\n",
        "# Estimar el valor de Y en los datos de prueba\n",
        "yHat_ms = ms.predict(Xq_test.iloc[:,1:])\n",
        "\n",
        "# Calcular RSS\n",
        "RSS_ms = sum((list(Y_test)-yHat_ms) ** 2)\n",
        "\n",
        "# Calcular RSE\n",
        "RSE_ms = np.sqrt(RSS_ms / (len(Y_test) - 1))\n",
        "\n",
        "# Imprimir resultado en pantalla\n",
        "print(RSE_ms)"
      ],
      "metadata": {
        "colab": {
          "base_uri": "https://localhost:8080/"
        },
        "id": "GVQCtXuj_L_h",
        "outputId": "a378754e-ee64-472a-b36c-5f1f7c672dd1"
      },
      "id": "GVQCtXuj_L_h",
      "execution_count": 11,
      "outputs": [
        {
          "output_type": "stream",
          "name": "stdout",
          "text": [
            "20.53118578417824\n"
          ]
        }
      ]
    },
    {
      "cell_type": "markdown",
      "source": [
        "- Se genera una gráfica de dispersión que grafica los valores predecidos y los valores reales de (x,y)."
      ],
      "metadata": {
        "id": "bJd1YDRQGhhT"
      },
      "id": "bJd1YDRQGhhT"
    },
    {
      "cell_type": "code",
      "source": [
        "# Gráfica de dispersión con datos reales\n",
        "plt.scatter(X_test, Y_test)\n",
        "\n",
        "# Agregar valores estimados por el modelo segmentado como puntos de color rojo\n",
        "plt.plot(X_test, yHat_ms, \"r.\", label=\"piecewise\")\n",
        "\n",
        "# Incluir leyendas\n",
        "plt.legend()"
      ],
      "metadata": {
        "colab": {
          "base_uri": "https://localhost:8080/",
          "height": 448
        },
        "id": "3bQhHRkzFFy_",
        "outputId": "66a1091e-0fcd-4678-9b87-782b5040362f"
      },
      "id": "3bQhHRkzFFy_",
      "execution_count": 12,
      "outputs": [
        {
          "output_type": "execute_result",
          "data": {
            "text/plain": [
              "<matplotlib.legend.Legend at 0x791e63c03110>"
            ]
          },
          "metadata": {},
          "execution_count": 12
        },
        {
          "output_type": "display_data",
          "data": {
            "text/plain": [
              "<Figure size 640x480 with 1 Axes>"
            ],
            "image/png": "[encoded data removed]"
          },
          "metadata": {}
        }
      ]
    },
    {
      "cell_type": "markdown",
      "source": [
        "De acuerdo con el valor del RSE y de la gráfica resultante, el modelo no está prediciendo con gran precisión los valores de las calificaciones, esto debido a que el RSE (la diferencia entre valores reales y predichos) está elevado (**20.53**) y además también se puede apreciar una segmentación muy brusca, con puntos rojos muy agrupados en ciertas secciones y con otros muy lejanos, como viendose afectados por los outliers que se tienen en el conjunto de datos. Esto puede causar predicciones poco flexibles y por ende poco realistas de las calificaciones a futuro."
      ],
      "metadata": {
        "id": "XvWVdpirIp8F"
      },
      "id": "XvWVdpirIp8F"
    },
    {
      "cell_type": "markdown",
      "source": [
        "5. Se entrena un modelo KNN para regresión utilizando el valor de k que se considere adecuado\n",
        "(probando con varios). Se generan estimaciones en los datos de validación."
      ],
      "metadata": {
        "id": "-SctAYC3KwJS"
      },
      "id": "-SctAYC3KwJS"
    },
    {
      "cell_type": "code",
      "source": [
        "from sklearn.neighbors import KNeighborsRegressor as KNN\n",
        "\n",
        "# Generar y entrenar modelo, se prueba con un valor de 15\n",
        "mk = KNN(n_neighbors=10).fit(X_train, Y_train)\n",
        "\n",
        "# Estimar el valor de Y en los datos de prueba\n",
        "yHat_mk = mk.predict(X_test)\n",
        "\n",
        "# Calcular RSS\n",
        "RSS_mk = sum((list(Y_test) - yHat_mk) ** 2)\n",
        "\n",
        "# Calcular RSE\n",
        "RSE_mk = np.sqrt(RSS_mk / (len(Y_test) - 1))\n",
        "\n",
        "# Imprimir resultado en pantalla\n",
        "print(RSE_mk)"
      ],
      "metadata": {
        "colab": {
          "base_uri": "https://localhost:8080/"
        },
        "id": "vRd1CPRxKlOX",
        "outputId": "0596284e-c788-4632-bac6-eef740585fd1"
      },
      "id": "vRd1CPRxKlOX",
      "execution_count": 82,
      "outputs": [
        {
          "output_type": "stream",
          "name": "stdout",
          "text": [
            "20.176698071181796\n"
          ]
        }
      ]
    },
    {
      "cell_type": "code",
      "source": [
        "# Gráfica de dispersión con datos reales\n",
        "plt.scatter(X_test, Y_test)\n",
        "\n",
        "# Agregar valores estimados por el modelo segmentado como puntos de color rojo\n",
        "plt.plot(X_test, yHat_mk, \"r.\", label=\"knn\")\n",
        "\n",
        "# Incluir leyendas\n",
        "plt.legend()"
      ],
      "metadata": {
        "colab": {
          "base_uri": "https://localhost:8080/",
          "height": 448
        },
        "id": "RFkFXpF4Ma7x",
        "outputId": "4e3b149a-e4a3-4c36-af57-e54572b2d71f"
      },
      "id": "RFkFXpF4Ma7x",
      "execution_count": 83,
      "outputs": [
        {
          "output_type": "execute_result",
          "data": {
            "text/plain": [
              "<matplotlib.legend.Legend at 0x791e5e6a4110>"
            ]
          },
          "metadata": {},
          "execution_count": 83
        },
        {
          "output_type": "display_data",
          "data": {
            "text/plain": [
              "<Figure size 640x480 with 1 Axes>"
            ],
            "image/png": "[encoded data removed]"
          },
          "metadata": {}
        }
      ]
    },
    {
      "cell_type": "markdown",
      "source": [
        "Después de probar con un modelo KNN con varios valores, se concluye que k=10 obtuvo el mejor RSE de todos. De acuerdo con el valor del RSE y la gráfica, este modelo tampoco parece ajustarse bien, ya que le valor del RSE también está muy elevado, indicando que hay una alta variablidad entre los valores reales y predichos. La gráfica muestra una alta agrupación de puntos rojos en un solo sector, otras agrupaciones más segmentadas si se aumenta el tiempo, así como valores sueltos tratando de ajustarse a los outliers. Este modelo no parece ajustarse bien y si se usa puede dar predicciones muy poco flexibles e imprecisas."
      ],
      "metadata": {
        "id": "_9HcMuFDNFvV"
      },
      "id": "_9HcMuFDNFvV"
    },
    {
      "cell_type": "markdown",
      "source": [
        "6. Se imprimen los RSE de los 3 modelos. Se comentan sus diferencias."
      ],
      "metadata": {
        "id": "LC8jWW2nSYgd"
      },
      "id": "LC8jWW2nSYgd"
    },
    {
      "cell_type": "markdown",
      "source": [
        "- Se calcula el RSE del modelo de regresión polinomial cuadrática."
      ],
      "metadata": {
        "id": "qM867mY4USUy"
      },
      "id": "qM867mY4USUy"
    },
    {
      "cell_type": "code",
      "source": [
        "# Obtener el RSS\n",
        "RSS = sum(mq.resid ** 2)\n",
        "\n",
        "# Obtener el número de residuos\n",
        "df_residuals = mq.df_resid\n",
        "\n",
        "# Calcular el RSE\n",
        "RSE_mq = np.sqrt(RSS / df_residuals)"
      ],
      "metadata": {
        "id": "zhyAKEUnSQGe"
      },
      "id": "zhyAKEUnSQGe",
      "execution_count": 86,
      "outputs": []
    },
    {
      "cell_type": "markdown",
      "source": [
        "- Se imprimen los RSE de los 3 modelos"
      ],
      "metadata": {
        "id": "0aWJh4jFWCe8"
      },
      "id": "0aWJh4jFWCe8"
    },
    {
      "cell_type": "code",
      "source": [
        "print(f\"Regresión polinomial cuadrática: {RSE_mq}\")\n",
        "print(f\"Regresión segmentada: {RSE_ms}\")\n",
        "print(f\"Regresión KNN: {RSE_mk}\")"
      ],
      "metadata": {
        "colab": {
          "base_uri": "https://localhost:8080/"
        },
        "id": "qzzIik47WH3J",
        "outputId": "0d23e9eb-dfcc-4890-e04a-0ffd514ac41d"
      },
      "id": "qzzIik47WH3J",
      "execution_count": 87,
      "outputs": [
        {
          "output_type": "stream",
          "name": "stdout",
          "text": [
            "Regresión polinomial cuadrática: 23.870094511957173\n",
            "Regresión segmentada: 20.53118578417824\n",
            "Regresión KNN: 20.176698071181796\n"
          ]
        }
      ]
    },
    {
      "cell_type": "markdown",
      "source": [
        "De acuerdo a los RSE resultantes, se puede apreciar que no tienen mucha diferencia entre sí, sin embargo el de la regresión polinomial cuadrática es el que tiene el valor más alto. La regresión segmentada y KNN tienen valores casi iguales de solo unas decimas de diferencia, siendo el KNN el que tiene el valor más bajo de todos. Sin embargo, puede decirse que ninguno de los 3 modelos se ajusta como debería de ser debido a la alta variabilidad y poca flexibilidad en sus predicciones, especialmente en los últimos 2 modelos probados, que tienen agrupaciones segmentadas de diferente tamaño a medida que avanza el tiempo y valores predichos sueltos que tratan de ajustarse a los outliers cuando en realidad a lo mejor no deberían."
      ],
      "metadata": {
        "id": "zyOaIgqVW7W7"
      },
      "id": "zyOaIgqVW7W7"
    },
    {
      "cell_type": "markdown",
      "source": [
        "7. Se grafican tanto las calificaciones reales como las predichas por los 3 modelos en un mismo plot."
      ],
      "metadata": {
        "id": "psqOF9tDZUTB"
      },
      "id": "psqOF9tDZUTB"
    },
    {
      "cell_type": "markdown",
      "source": [
        "- Se calcula el yHat del modelo de regresión polinomial cuadrática."
      ],
      "metadata": {
        "id": "_4N3mKMTd4F5"
      },
      "id": "_4N3mKMTd4F5"
    },
    {
      "cell_type": "code",
      "source": [
        "# Calcular yHat en el conjunto de prueba\n",
        "yHat_mq = mq.predict(Xq_test)"
      ],
      "metadata": {
        "id": "2CkS_l-9dQbW"
      },
      "id": "2CkS_l-9dQbW",
      "execution_count": 90,
      "outputs": []
    },
    {
      "cell_type": "markdown",
      "source": [
        "- Se crean las gráficas"
      ],
      "metadata": {
        "id": "BbZdwhqeeDE4"
      },
      "id": "BbZdwhqeeDE4"
    },
    {
      "cell_type": "code",
      "source": [
        "# Gráfica de dispersión con datos reales\n",
        "plt.scatter(X_test, Y_test)\n",
        "\n",
        "# Agregar valores estimados por el modelo polinomial cuadrático como puntos de color azul\n",
        "plt.plot(X_test, yHat_mq, \"blue\", label=\"Regresion pol. cuad.\")\n",
        "\n",
        "# Agregar valores estimados por el modelo segmentado como puntos de color rojo\n",
        "plt.plot(X_test, yHat_ms, \"red\", label=\"Regresión segmentada\")\n",
        "\n",
        "# Agregar valores estimados por el modelo KNN como puntos de color naranja\n",
        "plt.plot(X_test, yHat_mk, \"orange\", label=\"Regresión KNN\")\n",
        "\n",
        "# Incluir leyendas, título y nombres en los ejes\n",
        "plt.legend()\n",
        "plt.title(\"Modelos de regresión lineal (Calificación vs Tiempo de entrega)\")\n",
        "plt.xlabel(\"Tiempo de entrega\")\n",
        "plt.ylabel(\"Calificación\")"
      ],
      "metadata": {
        "colab": {
          "base_uri": "https://localhost:8080/",
          "height": 490
        },
        "id": "aQdrG7-zZSSf",
        "outputId": "59e8e607-c995-43f6-bdb4-51d1c52e25cb"
      },
      "id": "aQdrG7-zZSSf",
      "execution_count": 92,
      "outputs": [
        {
          "output_type": "execute_result",
          "data": {
            "text/plain": [
              "Text(0, 0.5, 'Calificación')"
            ]
          },
          "metadata": {},
          "execution_count": 92
        },
        {
          "output_type": "display_data",
          "data": {
            "text/plain": [
              "<Figure size 640x480 with 1 Axes>"
            ],
            "image/png": "[encoded data removed]"
          },
          "metadata": {}
        }
      ]
    },
    {
      "cell_type": "markdown",
      "source": [
        "- **Nombre**: Humberto Cavazos\n",
        "- **Matrícula**: 531712"
      ],
      "metadata": {
        "id": "p-dhVVYhfCoO"
      },
      "id": "p-dhVVYhfCoO"
    }
  ],
  "metadata": {
    "kernelspec": {
      "display_name": "Python [conda env:base] *",
      "language": "python",
      "name": "conda-base-py"
    },
    "language_info": {
      "codemirror_mode": {
        "name": "ipython",
        "version": 3
      },
      "file_extension": ".py",
      "mimetype": "text/x-python",
      "name": "python",
      "nbconvert_exporter": "python",
      "pygments_lexer": "ipython3",
      "version": "3.12.2"
    },
    "colab": {
      "provenance": []
    }
  },
  "nbformat": 4,
  "nbformat_minor": 5
}